{
 "cells": [
  {
   "cell_type": "markdown",
   "id": "82fe9669",
   "metadata": {},
   "source": [
    "   # Mini Project ITP - Courier Management System"
   ]
  },
  {
   "cell_type": "code",
   "execution_count": 182,
   "id": "3ffb1564",
   "metadata": {},
   "outputs": [],
   "source": [
    "from datetime import datetime"
   ]
  },
  {
   "cell_type": "markdown",
   "id": "13832562",
   "metadata": {},
   "source": [
    "### Q1. Create a Dictionary of lists to store the information of shipments given in the table"
   ]
  },
  {
   "cell_type": "code",
   "execution_count": 26,
   "id": "20519991",
   "metadata": {},
   "outputs": [
    {
     "name": "stdout",
     "output_type": "stream",
     "text": [
      "{101: {'Sender': 1, 'Receiver': 3, 'Start date': '14-03-2020', 'Delivery date': '25-03-2020', 'Sender location': 'Area 1', 'Receiver location': 'Area 6', 'Delivery status': 'Delivered', 'Shipping cost': 198}, 102: {'Sender': 4, 'Receiver': 1, 'Start date': '18-06-2020', 'Delivery date': '09-07-2020', 'Sender location': 'Area 2', 'Receiver location': 'Area 4', 'Delivery status': 'Delivered', 'Shipping cost': 275}, 103: {'Sender': 2, 'Receiver': 3, 'Start date': '01-12-2020', 'Delivery date': 'Null', 'Sender location': 'Area 5', 'Receiver location': 'Area 1', 'Delivery status': 'In Transit', 'Shipping cost': 200}, 104: {'Sender': 1, 'Receiver': 5, 'Start date': '23-06-2020', 'Delivery date': '25-06-2020', 'Sender location': 'Area 1', 'Receiver location': 'Area 4', 'Delivery status': 'Delivered', 'Shipping cost': 314}, 105: {'Sender': 3, 'Receiver': 4, 'Start date': '29-08-2020', 'Delivery date': '10-09-2020', 'Sender location': 'Area 5', 'Receiver location': 'Area 3', 'Delivery status': 'Delivered', 'Shipping cost': 275}, 106: {'Sender': 5, 'Receiver': 2, 'Start date': '28-06-2020', 'Delivery date': 'Null', 'Sender location': 'Area 3', 'Receiver location': 'Area 1', 'Delivery status': 'In Transit', 'Shipping cost': 270}}\n"
     ]
    }
   ],
   "source": [
    "data={101:{'Sender':1,'Receiver':3,'Start date':'14-03-2020','Delivery date':'25-03-2020','Sender location':'Area 1','Receiver location':'Area 6','Delivery status':'Delivered','Shipping cost':198},\n",
    "      102:{'Sender':4,'Receiver':1,'Start date':'18-06-2020','Delivery date':'09-07-2020','Sender location':'Area 2','Receiver location':'Area 4','Delivery status':'Delivered','Shipping cost':275},\n",
    "      103:{'Sender':2,'Receiver':3,'Start date':'01-12-2020','Delivery date':'Null','Sender location':'Area 5','Receiver location':'Area 1','Delivery status':'In Transit','Shipping cost':200},\n",
    "      104:{'Sender':1,'Receiver':5,'Start date':'23-06-2020','Delivery date':'25-06-2020','Sender location':'Area 1','Receiver location':'Area 4','Delivery status':'Delivered','Shipping cost':314},\n",
    "      105:{'Sender':3,'Receiver':4,'Start date':'29-08-2020','Delivery date':'10-09-2020','Sender location':'Area 5','Receiver location':'Area 3','Delivery status':'Delivered','Shipping cost':275},\n",
    "      106:{'Sender':5,'Receiver':2,'Start date':'28-06-2020','Delivery date':'Null','Sender location':'Area 3','Receiver location':'Area 1','Delivery status':'In Transit','Shipping cost':270}}\n",
    "print(data)"
   ]
  },
  {
   "cell_type": "markdown",
   "id": "257c5920",
   "metadata": {},
   "source": [
    "### Q2. Create a Dictionary of to store the information of clients given in the table."
   ]
  },
  {
   "cell_type": "code",
   "execution_count": 168,
   "id": "2b0a6511",
   "metadata": {},
   "outputs": [],
   "source": [
    "client= {1:'Phillip',2:'Omega lll',3 :'Ramya',4:'Romesh',5:'John'}"
   ]
  },
  {
   "cell_type": "markdown",
   "id": "72b6d361",
   "metadata": {},
   "source": [
    "### Q3. Write a code to replace client’s id with their respective name in shipment dictionary using a loop and dictionary comprehension"
   ]
  },
  {
   "cell_type": "code",
   "execution_count": 170,
   "id": "a4c41923",
   "metadata": {},
   "outputs": [
    {
     "name": "stdout",
     "output_type": "stream",
     "text": [
      "{101: {'Sender': 'Phillip', 'Receiver': 'Ramya', 'Start date': '14-03-2020', 'Delivery date': '25-03-2020', 'Sender location': 'Area 1', 'Receiver location': 'Area 6', 'Delivery status': 'Delivered', 'Shipping cost': 198}, 102: {'Sender': 'Romesh', 'Receiver': 'Phillip', 'Start date': '18-06-2020', 'Delivery date': '09-07-2020', 'Sender location': 'Area 2', 'Receiver location': 'Area 4', 'Delivery status': 'Delivered', 'Shipping cost': 275}, 103: {'Sender': 'Omega lll', 'Receiver': 'Ramya', 'Start date': '01-12-2020', 'Delivery date': 'Null', 'Sender location': 'Area 5', 'Receiver location': 'Area 1', 'Delivery status': 'In Transit', 'Shipping cost': 200}, 104: {'Sender': 'Phillip', 'Receiver': 'John', 'Start date': '23-06-2020', 'Delivery date': '25-06-2020', 'Sender location': 'Area 1', 'Receiver location': 'Area 4', 'Delivery status': 'Delivered', 'Shipping cost': 314}, 105: {'Sender': 'Ramya', 'Receiver': 'Romesh', 'Start date': '29-08-2020', 'Delivery date': '10-09-2020', 'Sender location': 'Area 5', 'Receiver location': 'Area 3', 'Delivery status': 'Delivered', 'Shipping cost': 275}, 106: {'Sender': 'John', 'Receiver': 'Omega lll', 'Start date': '28-06-2020', 'Delivery date': 'Null', 'Sender location': 'Area 3', 'Receiver location': 'Area 1', 'Delivery status': 'In Transit', 'Shipping cost': 270}}\n"
     ]
    }
   ],
   "source": [
    "result = {}\n",
    "for key, value in data.items():\n",
    "    new_value = {k: client[v] if k in ('Sender', 'Receiver') else v for k,v in value.items()}\n",
    "    result[key] = new_value\n",
    "        \n",
    "print(result)"
   ]
  },
  {
   "cell_type": "markdown",
   "id": "d92be34f",
   "metadata": {},
   "source": [
    "### Q4. Print all shipment details that are sent by Phillip"
   ]
  },
  {
   "cell_type": "code",
   "execution_count": 188,
   "id": "4cc4c3c4",
   "metadata": {},
   "outputs": [
    {
     "name": "stdout",
     "output_type": "stream",
     "text": [
      "[{'Sender': 'Phillip', 'Receiver': 'Ramya', 'Start date': '14-03-2020', 'Delivery date': '25-03-2020', 'Sender location': 'Area 1', 'Receiver location': 'Area 6', 'Delivery status': 'Delivered', 'Shipping cost': 198}, {'Sender': 'Phillip', 'Receiver': 'John', 'Start date': '23-06-2020', 'Delivery date': '25-06-2020', 'Sender location': 'Area 1', 'Receiver location': 'Area 4', 'Delivery status': 'Delivered', 'Shipping cost': 314}]\n"
     ]
    }
   ],
   "source": [
    "data = {101: {'Sender': 'Phillip', 'Receiver': 'Ramya', 'Start date': '14-03-2020', 'Delivery date': '25-03-2020', 'Sender location': 'Area 1', 'Receiver location': 'Area 6', 'Delivery status': 'Delivered', 'Shipping cost': 198}, \n",
    "         102: {'Sender': 'Romesh', 'Receiver': 'Phillip', 'Start date': '18-06-2020', 'Delivery date': '09-07-2020', 'Sender location': 'Area 2', 'Receiver location': 'Area 4', 'Delivery status': 'Delivered', 'Shipping cost': 275}, \n",
    "         103: {'Sender': 'Omega lll', 'Receiver': 'Ramya', 'Start date': '01-12-2020', 'Delivery date': 'Null', 'Sender location': 'Area 5', 'Receiver location': 'Area 1', 'Delivery status': 'In Transit', 'Shipping cost': 200}, \n",
    "         104: {'Sender': 'Phillip', 'Receiver': 'John', 'Start date': '23-06-2020', 'Delivery date': '25-06-2020', 'Sender location': 'Area 1', 'Receiver location': 'Area 4', 'Delivery status': 'Delivered', 'Shipping cost': 314}, \n",
    "         105: {'Sender': 'Ramya', 'Receiver': 'Romesh', 'Start date': '29-08-2020', 'Delivery date': '10-09-2020', 'Sender location': 'Area 5', 'Receiver location': 'Area 3', 'Delivery status': 'Delivered', 'Shipping cost': 275}, \n",
    "         106: {'Sender': 'John', 'Receiver': 'Omega lll', 'Start date': '28-06-2020', 'Delivery date': 'Null', 'Sender location': 'Area 3', 'Receiver location': 'Area 1', 'Delivery status': 'In Transit', 'Shipping cost': 270}}\n",
    "\n",
    "phillips = list(filter(lambda value: value['Sender'] == 'Phillip',data.values()))\n",
    "print(phillips)"
   ]
  },
  {
   "cell_type": "markdown",
   "id": "bf43d281",
   "metadata": {},
   "source": [
    "### Q5. Print all shipment details that are received by Ramya"
   ]
  },
  {
   "cell_type": "code",
   "execution_count": 178,
   "id": "9b77c7e7",
   "metadata": {},
   "outputs": [
    {
     "name": "stdout",
     "output_type": "stream",
     "text": [
      "[{'Sender': 'Phillip', 'Receiver': 'Ramya', 'Start date': '14-03-2020', 'Delivery date': '25-03-2020', 'Sender location': 'Area 1', 'Receiver location': 'Area 6', 'Delivery status': 'Delivered', 'Shipping cost': 198}, {'Sender': 'Omega lll', 'Receiver': 'Ramya', 'Start date': '01-12-2020', 'Delivery date': 'Null', 'Sender location': 'Area 5', 'Receiver location': 'Area 1', 'Delivery status': 'In Transit', 'Shipping cost': 200}]\n"
     ]
    }
   ],
   "source": [
    "ramya = list(filter(lambda value: value['Receiver'] == 'Ramya',data.values()))\n",
    "print(ramya)"
   ]
  },
  {
   "cell_type": "markdown",
   "id": "57b1829d",
   "metadata": {},
   "source": [
    "### Q6. Print all shipments which are in 'In-Transit' status"
   ]
  },
  {
   "cell_type": "code",
   "execution_count": 180,
   "id": "9478cd95",
   "metadata": {},
   "outputs": [
    {
     "name": "stdout",
     "output_type": "stream",
     "text": [
      "[{'Sender': 'Omega lll', 'Receiver': 'Ramya', 'Start date': '01-12-2020', 'Delivery date': 'Null', 'Sender location': 'Area 5', 'Receiver location': 'Area 1', 'Delivery status': 'In Transit', 'Shipping cost': 200}, {'Sender': 'John', 'Receiver': 'Omega lll', 'Start date': '28-06-2020', 'Delivery date': 'Null', 'Sender location': 'Area 3', 'Receiver location': 'Area 1', 'Delivery status': 'In Transit', 'Shipping cost': 270}]\n"
     ]
    }
   ],
   "source": [
    "in_transit = list(filter(lambda value: value['Delivery status'] == 'In Transit',data.values()))\n",
    "print(in_transit)"
   ]
  },
  {
   "cell_type": "markdown",
   "id": "4e4997bd",
   "metadata": {},
   "source": [
    "###  Q7. Print all shipments which are delivered within 7 days of courier Start date"
   ]
  },
  {
   "cell_type": "code",
   "execution_count": 184,
   "id": "4d1eadb0",
   "metadata": {},
   "outputs": [
    {
     "name": "stdout",
     "output_type": "stream",
     "text": [
      "{'Sender': 'Phillip', 'Receiver': 'John', 'Start date': '23-06-2020', 'Delivery date': '25-06-2020', 'Sender location': 'Area 1', 'Receiver location': 'Area 4', 'Delivery status': 'Delivered', 'Shipping cost': 314}\n"
     ]
    }
   ],
   "source": [
    "\n",
    "for v in data.values():\n",
    "    if v[\"Delivery date\"] == \"Null\":\n",
    "        continue\n",
    "\n",
    "    start = datetime.strptime(v[\"Start date\"], \"%d-%m-%Y\")\n",
    "    delivery = datetime.strptime(v[\"Delivery date\"], \"%d-%m-%Y\")\n",
    "\n",
    "    if (delivery - start).days <= 7:\n",
    "        print(v)"
   ]
  },
  {
   "cell_type": "markdown",
   "id": "ad30baa6",
   "metadata": {},
   "source": [
    "### Q8. Print all shipments which are delivered after 15 days of courier start date or not yet been delivered."
   ]
  },
  {
   "cell_type": "code",
   "execution_count": 186,
   "id": "46e9e2a4",
   "metadata": {},
   "outputs": [
    {
     "name": "stdout",
     "output_type": "stream",
     "text": [
      "{'Sender': 'Romesh', 'Receiver': 'Phillip', 'Start date': '18-06-2020', 'Delivery date': '09-07-2020', 'Sender location': 'Area 2', 'Receiver location': 'Area 4', 'Delivery status': 'Delivered', 'Shipping cost': 275}\n"
     ]
    }
   ],
   "source": [
    "for v in data.values():\n",
    "    if v[\"Delivery date\"] == \"Null\":\n",
    "        continue\n",
    "\n",
    "    start = datetime.strptime(v[\"Start date\"], \"%d-%m-%Y\")\n",
    "    delivery = datetime.strptime(v[\"Delivery date\"], \"%d-%m-%Y\")\n",
    "\n",
    "    if (delivery - start).days >= 15:\n",
    "        print(v)"
   ]
  },
  {
   "cell_type": "markdown",
   "id": "688b90b5",
   "metadata": {},
   "source": [
    "### Q 9. Write a function find_all_routes to display all possible routes from senders location to receivers location given in the dictionary for each shipment."
   ]
  },
  {
   "cell_type": "code",
   "execution_count": null,
   "id": "f3f8e531",
   "metadata": {},
   "outputs": [],
   "source": [
    "Pseudocode"
   ]
  },
  {
   "cell_type": "markdown",
   "id": "9a4e7f49",
   "metadata": {},
   "source": [
    "1.start\n",
    "2.Function to check if we reached on of the entry/exit (corner) point.\n",
    "3.check condition if((i == 0 and j == 0) or (i == 0 and j == N-1) or (i == M-1 and j == N-1) or (i == M-1 and j == 0)): return True else return False\n",
    "5.Function to check if the index is within the matrix boundary. if(i < 0 or i >= M or j < 0 or j >= N): return False return True\n",
    "6.Recursive helper function\n",
    "7.If any corner is reached push the string t into ans and returnif(isCorner(i, j, M, N)): ans.append(t) return\n",
    "8.For all the four directions use for loop , The new ith index,The new jth index,The direction R/L/U/D\n",
    "9.If the new cell is within the matrix boundary and it is not previously visited in same path\n",
    "10.mark the new cell visited Store the direction Backtrack to explore other paths\n",
    "11.Function to find all possible paths by Create a direction  array for all the four directions stores the result \n",
    "12.Driver code by Initialise variable  \n",
    "maze = [[0,1,0,0,0,1],\n",
    "        [1,0,1,1,0,0],\n",
    "        [0,1,0,1,0,0],\n",
    "        [0,1,1,0,1,0],\n",
    "        [0,0,0,1,0,0],\n",
    "        [1,0,0,0,0,0],]\n",
    "13.function call and Print the result\n",
    "14.if(len(paths) == 0): print(\"No Possible Paths\") else: print(i)\n",
    "15.end"
   ]
  },
  {
   "cell_type": "code",
   "execution_count": 27,
   "id": "2ee39961",
   "metadata": {},
   "outputs": [],
   "source": [
    "def find_all_paths(matrix, start,end, visited,path):\n",
    "    \n",
    "    visited[start]=True     #  start and end are node points we check  and  path  initially is empty list\n",
    "                            # visited[start]=True  means  the path  has been  visited  by the node\n",
    "                           #Here if visited[i]=False means the path has  not  been  visited   by  the node  \n",
    "    \n",
    "    path.append(start+1)           # we append the start node to   the path\n",
    "    if start==end:\n",
    "        print(path)\n",
    "    else:\n",
    "        for i in range(6):            #here we check  for the below two  conditions , if satisfies  we use the \n",
    "                                       #recursion  condition  to  check  the remaining paths....\n",
    "            \n",
    "            if matrix[start][i]==1  and (visited[i]==False):\n",
    "                  find_all_paths(matrix, i, end,visited, path)    \n",
    "\n",
    "    path.pop()           # we finally  clear the path  after the getting  final  path  for the next  call  by  the function\n",
    "                         #to  find remaining  paths\n",
    "    visited[start]=False\n",
    "    \n",
    "visited=[False for i in  range(6)]\n",
    "matrix=[[0,1,0,0,0,1],\n",
    "       [1,0,1,1,0,0],\n",
    "       [0,1,0,1,0,0],\n",
    "       [0,1,1,0,1,0],\n",
    "       [0,0,0,1,0,0],\n",
    "       [1,0,0,0,0,0]]\n",
    "path=[]"
   ]
  },
  {
   "cell_type": "code",
   "execution_count": 35,
   "id": "d7b02f61",
   "metadata": {},
   "outputs": [],
   "source": [
    "def show_paths(d):\n",
    "    for i in  data:\n",
    "        s=int(data[i][\"Sender location\"][-1])\n",
    "        print('Sender location: Area',s)\n",
    "\n",
    "        r=int(data[i][\"Receiver location\"][-1])\n",
    "        print('Receiver: Area',r)\n",
    "        print('Paths', end=\" \")\n",
    "        \n",
    "        find_all_paths(matrix,r-1,s-1,visited,path)\n",
    "        print(\"\\n\")\n",
    "        \n",
    "        \n"
   ]
  },
  {
   "cell_type": "code",
   "execution_count": 36,
   "id": "8833cbaf",
   "metadata": {},
   "outputs": [
    {
     "name": "stdout",
     "output_type": "stream",
     "text": [
      "Sender location: Area 1\n",
      "Receiver: Area 6\n",
      "Paths [6, 1]\n",
      "\n",
      "\n",
      "Sender location: Area 2\n",
      "Receiver: Area 4\n",
      "Paths [4, 2]\n",
      "[4, 3, 2]\n",
      "\n",
      "\n",
      "Sender location: Area 5\n",
      "Receiver: Area 1\n",
      "Paths [1, 2, 3, 4, 5]\n",
      "[1, 2, 4, 5]\n",
      "\n",
      "\n",
      "Sender location: Area 1\n",
      "Receiver: Area 4\n",
      "Paths [4, 2, 1]\n",
      "[4, 3, 2, 1]\n",
      "\n",
      "\n",
      "Sender location: Area 5\n",
      "Receiver: Area 3\n",
      "Paths [3, 2, 4, 5]\n",
      "[3, 4, 5]\n",
      "\n",
      "\n",
      "Sender location: Area 3\n",
      "Receiver: Area 1\n",
      "Paths [1, 2, 3]\n",
      "[1, 2, 4, 3]\n",
      "\n",
      "\n"
     ]
    }
   ],
   "source": [
    "show_paths(data)"
   ]
  },
  {
   "cell_type": "code",
   "execution_count": null,
   "id": "4f40f1ab",
   "metadata": {},
   "outputs": [],
   "source": []
  }
 ],
 "metadata": {
  "kernelspec": {
   "display_name": "Python 3 (ipykernel)",
   "language": "python",
   "name": "python3"
  },
  "language_info": {
   "codemirror_mode": {
    "name": "ipython",
    "version": 3
   },
   "file_extension": ".py",
   "mimetype": "text/x-python",
   "name": "python",
   "nbconvert_exporter": "python",
   "pygments_lexer": "ipython3",
   "version": "3.10.5"
  }
 },
 "nbformat": 4,
 "nbformat_minor": 5
}
